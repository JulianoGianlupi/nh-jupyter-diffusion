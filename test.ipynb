{
 "cells": [
  {
   "cell_type": "code",
   "execution_count": 2,
   "metadata": {},
   "outputs": [],
   "source": [
    "import numpy as np"
   ]
  },
  {
   "cell_type": "code",
   "execution_count": 3,
   "metadata": {},
   "outputs": [],
   "source": [
    "class DiffusingField:\n",
    "    def __init__(self, \n",
    "                 D = None, gamma = None,\n",
    "                 xdim = None, ydim = None, time_iters = None,\n",
    "                 dx = None, dy = None, dt = None,\n",
    "                 BC_type = None, bc_x = None, bc_y = None):\n",
    "        \n",
    "        self.current_step = 0\n",
    "        \n",
    "        self._init_grid(dt,dx,dy,time_iters,xdim,ydim)\n",
    "        \n",
    "        self._init_diff_params(D,gamma,BC_type,bc_x,bc_y)\n",
    "                        \n",
    "        self.concentrations = self._init_concentration_field(\n",
    "                                len(self.xdim),len(self.ydim),self.itrs_t)\n",
    "        \n",
    "    def _init_diff_params(self,D,gamma,BC,bc_x,bc_y):\n",
    "        self.D = D if D is not None else .1*self.dx*self.dx/self.dt# (D*dt/dx**2) << 1\n",
    "        self.g = gamma if gamma is not None else 0\n",
    "        self.gamma = self.g\n",
    "        \n",
    "        if BC is None:\n",
    "            self.BC = 'floating'\n",
    "        else:\n",
    "            self.BC = BC\n",
    "        \n",
    "        \n",
    "        \n",
    "        # self._set_select_BC(BC,bc_x,bc_y)\n",
    "        \n",
    "    # def _set_select_BC(self,BC,bc_x,bc_y):\n",
    "    def _init_grid(self,dt,dx,dy,time_iters,xdim,ydim):\n",
    "        dt = dt if dt is not None else .00005\n",
    "        dx = dx if dx is not None else .01\n",
    "        dy = dy if dy is not None else .01\n",
    "        \n",
    "        self.dx = dx\n",
    "        self.dy = dy\n",
    "        self.dt = dt\n",
    "        \n",
    "        if xdim is not None:\n",
    "            self.xdim = np.arange(0,xdim,dx)\n",
    "        else:\n",
    "            self.xdim = np.arange(0,.1,dx)\n",
    "        if ydim is not None:\n",
    "            self.ydim = np.arange(0,ydim,dx)\n",
    "        else:\n",
    "            self.ydim = np.array([0])\n",
    "        \n",
    "        if time_iters is not None:\n",
    "            self.time = np.arange(0,time_iters,dt)\n",
    "            self.itrs_t = time_iters\n",
    "        else:\n",
    "            self.time = np.arange(0,10,dt)\n",
    "            self.itrs_t = 11\n",
    "        \n",
    "        return\n",
    "    \n",
    "    def _init_concentration_field(self,x,y,t):\n",
    "        if y != 1:\n",
    "            field = np.zeros(shape = (x,y,t))\n",
    "            \n",
    "            return field\n",
    "        else:\n",
    "            field = np.zeros(shape = (x,t))\n",
    "            self.step = self._step_1d\n",
    "            return field\n",
    "        return field\n",
    "    \n",
    "   \n",
    "    def _step_1d(self):\n",
    "        \n",
    "        curr_step = self.current_step\n",
    "        D = self.D\n",
    "        g = self.g\n",
    "        \n",
    "        dt = self.dt\n",
    "        dx = self.dx\n",
    "        \n",
    "        c =np.zeros(self.concentrations.shape)\n",
    "        c[:,:] = self.concentrations[:,:]\n",
    "        \n",
    "        for ix in range(1,len(c)-1):\n",
    "            c[ix,curr_step+1] = (c[ix,curr_step] + (D*dt/dx**2) *(\n",
    "            c[ix+1,curr_step] + c[ix-1,curr_step] - 2*c[ix,curr_step])\n",
    "             - dt*g*c[ix,curr_step] )\n",
    "        \n",
    "        c[0,curr_step+1] = (c[0,curr_step] + (D*dt/dx**2) *(\n",
    "            c[1,curr_step] - c[0,curr_step])\n",
    "             - dt*g*c[0,curr_step] )\n",
    "        c[-1,curr_step+1] = (c[-1,curr_step] + (D*dt/dx**2) *(\n",
    "            c[-2,curr_step] - c[-1,curr_step])\n",
    "             - dt*g*c[-1,curr_step] )\n",
    "        \n",
    "        \n",
    "        \n",
    "        self.concentrations[:,:] = c[:]\n",
    "        self.current_step +=1\n",
    "\n",
    "    def evolve(self):\n",
    "        \n",
    "        for itr in range(self.itrs_t-1):\n",
    "            self.step()\n",
    "\n"
   ]
  },
  {
   "cell_type": "code",
   "execution_count": 5,
   "metadata": {},
   "outputs": [],
   "source": [
    "a = DiffusingField()\n"
   ]
  },
  {
   "cell_type": "code",
   "execution_count": 7,
   "metadata": {},
   "outputs": [
    {
     "data": {
      "text/plain": [
       "array([[0., 0., 0., 0., 0., 0., 0., 0., 0., 0., 0.],\n",
       "       [0., 0., 0., 0., 0., 0., 0., 0., 0., 0., 0.],\n",
       "       [0., 0., 0., 0., 0., 0., 0., 0., 0., 0., 0.],\n",
       "       [0., 0., 0., 0., 0., 0., 0., 0., 0., 0., 0.],\n",
       "       [0., 0., 0., 0., 0., 0., 0., 0., 0., 0., 0.],\n",
       "       [0., 0., 0., 0., 0., 0., 0., 0., 0., 0., 0.],\n",
       "       [0., 0., 0., 0., 0., 0., 0., 0., 0., 0., 0.],\n",
       "       [0., 0., 0., 0., 0., 0., 0., 0., 0., 0., 0.],\n",
       "       [0., 0., 0., 0., 0., 0., 0., 0., 0., 0., 0.],\n",
       "       [0., 0., 0., 0., 0., 0., 0., 0., 0., 0., 0.]])"
      ]
     },
     "execution_count": 7,
     "metadata": {},
     "output_type": "execute_result"
    }
   ],
   "source": [
    "a.concentrations"
   ]
  },
  {
   "cell_type": "code",
   "execution_count": 8,
   "metadata": {},
   "outputs": [
    {
     "data": {
      "text/plain": [
       "0.01"
      ]
     },
     "execution_count": 8,
     "metadata": {},
     "output_type": "execute_result"
    }
   ],
   "source": [
    "a.dx"
   ]
  }
 ],
 "metadata": {
  "kernelspec": {
   "display_name": "Python 3",
   "language": "python",
   "name": "python3"
  },
  "language_info": {
   "codemirror_mode": {
    "name": "ipython",
    "version": 3
   },
   "file_extension": ".py",
   "mimetype": "text/x-python",
   "name": "python",
   "nbconvert_exporter": "python",
   "pygments_lexer": "ipython3",
   "version": "3.7.7"
  }
 },
 "nbformat": 4,
 "nbformat_minor": 4
}
